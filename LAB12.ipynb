{
  "nbformat": 4,
  "nbformat_minor": 0,
  "metadata": {
    "colab": {
      "provenance": []
    },
    "kernelspec": {
      "name": "python3",
      "display_name": "Python 3"
    },
    "language_info": {
      "name": "python"
    }
  },
  "cells": [
    {
      "cell_type": "markdown",
      "source": [
        "# Programming tasks: part 12\n",
        "\n",
        "Required datasets: `prostate.csv`, `titanic.csv`"
      ],
      "metadata": {
        "id": "b8X1-HobccbI"
      }
    },
    {
      "cell_type": "code",
      "source": [
        "import numpy as np\n",
        "import pandas\n",
        "import matplotlib.pyplot as plt\n",
        "from scipy.stats import norm\n",
        "from sklearn.metrics import roc_auc_score\n",
        "from sklearn.preprocessing import LabelEncoder\n",
        "from sklearn.model_selection import train_test_split, GridSearchCV\n",
        "from sklearn.linear_model import LogisticRegression\n",
        "from sklearn.tree import DecisionTreeClassifier\n",
        "from sklearn.ensemble import BaggingClassifier, AdaBoostClassifier, RandomForestClassifier"
      ],
      "metadata": {
        "id": "lglwl4vXeJeC"
      },
      "execution_count": null,
      "outputs": []
    },
    {
      "cell_type": "markdown",
      "source": [
        "## Task 1\n",
        "\n",
        "Load `prostate.csv`."
      ],
      "metadata": {
        "id": "L9TKgJx5dDfb"
      }
    },
    {
      "cell_type": "markdown",
      "source": [
        "### a. Split the dataset into test and training (70%) sets."
      ],
      "metadata": {
        "id": "Wf3_JfU3dQZz"
      }
    },
    {
      "cell_type": "code",
      "source": [
        "url = 'prostate.csv'\n",
        "dataframe = pandas.read_csv(url,header=0)\n",
        "data = dataframe.values\n",
        "X, y = data[:,:-1], data[:, -1]\n",
        "X_train,X_test,y_train,y_test = train_test_split(X,y,train_size = 0.7,test_size = 0.3)"
      ],
      "metadata": {
        "id": "Y8xPGMI2ft2e"
      },
      "execution_count": null,
      "outputs": []
    },
    {
      "cell_type": "markdown",
      "source": [
        "### b. Train a logistic model on the data."
      ],
      "metadata": {
        "id": "ygnKR-TodbgD"
      }
    },
    {
      "cell_type": "code",
      "source": [
        "clf = LogisticRegression(penalty = 'none',max_iter=1000)\n",
        "clf.fit(X_train, y_train)"
      ],
      "metadata": {
        "colab": {
          "base_uri": "https://localhost:8080/"
        },
        "id": "t-4Qkp8uf58V",
        "outputId": "9736d69a-780d-4122-8f21-82b0f3ac639e"
      },
      "execution_count": null,
      "outputs": [
        {
          "output_type": "execute_result",
          "data": {
            "text/plain": [
              "LogisticRegression(max_iter=1000, penalty='none')"
            ]
          },
          "metadata": {},
          "execution_count": 8
        }
      ]
    },
    {
      "cell_type": "markdown",
      "source": [
        "### c. Fit a bagging method using 100 logistic models. Bootrstrap samples are the same size as the training set."
      ],
      "metadata": {
        "id": "cqLwrp5zdqQF"
      }
    },
    {
      "cell_type": "code",
      "source": [
        "clf2 = BaggingClassifier(base_estimator=LogisticRegression(penalty = 'none',max_iter=1000),n_estimators=100)\n",
        "clf2.fit(X_train, y_train)"
      ],
      "metadata": {
        "colab": {
          "base_uri": "https://localhost:8080/"
        },
        "id": "Tzax70hwf9Fn",
        "outputId": "3c8100a3-2f30-462a-9704-1f63c3eff475"
      },
      "execution_count": null,
      "outputs": [
        {
          "output_type": "execute_result",
          "data": {
            "text/plain": [
              "BaggingClassifier(base_estimator=LogisticRegression(max_iter=1000,\n",
              "                                                    penalty='none'),\n",
              "                  n_estimators=100)"
            ]
          },
          "metadata": {},
          "execution_count": 9
        }
      ]
    },
    {
      "cell_type": "markdown",
      "source": [
        "### d. Calculate AUC."
      ],
      "metadata": {
        "id": "o_4XVd3Td96q"
      }
    },
    {
      "cell_type": "code",
      "source": [
        "clf_probs = clf.predict_proba(X_test)\n",
        "clf_probs = clf_probs[:, 1]\n",
        "print(roc_auc_score(y_test, clf_probs))\n",
        "clf2_probs = clf2.predict_proba(X_test)\n",
        "clf2_probs = clf2_probs[:, 1]\n",
        "print(roc_auc_score(y_test, clf2_probs))"
      ],
      "metadata": {
        "colab": {
          "base_uri": "https://localhost:8080/"
        },
        "id": "sUdFOF1geFgX",
        "outputId": "e32eb873-ecdc-4701-aa61-6c4a9b2e1796"
      },
      "execution_count": null,
      "outputs": [
        {
          "output_type": "stream",
          "name": "stdout",
          "text": [
            "0.8464912280701754\n",
            "0.8903508771929824\n"
          ]
        }
      ]
    },
    {
      "cell_type": "markdown",
      "source": [
        "Using a bagging method we get a better model."
      ],
      "metadata": {
        "id": "YRCHUhakgSt8"
      }
    },
    {
      "cell_type": "markdown",
      "source": [
        "## Task 2\n",
        " Load `titanic.csv`."
      ],
      "metadata": {
        "id": "3QOMI2PfgF-G"
      }
    },
    {
      "cell_type": "markdown",
      "source": [
        "### a. Split the dataset into test and training (70%) sets."
      ],
      "metadata": {
        "id": "CiaFfWbdgY1r"
      }
    },
    {
      "cell_type": "code",
      "source": [
        "url = 'titanic.csv'\n",
        "dataframe = pandas.read_csv(url,header=0)\n",
        "print(dataframe)\n",
        "data = dataframe.values\n",
        "data = data[::-1,:]\n",
        "X, y = data[:,1:], data[:, 0]\n",
        "y = y.astype(int)\n",
        "X_train,X_test,y_train,y_test = train_test_split(X,y,train_size = 0.7,test_size = 0.3)\n",
        "print(X_train.shape)"
      ],
      "metadata": {
        "colab": {
          "base_uri": "https://localhost:8080/"
        },
        "id": "HH7gDux7hqeb",
        "outputId": "4d3e44e4-172c-463a-c715-34116aa7ffde"
      },
      "execution_count": null,
      "outputs": [
        {
          "output_type": "stream",
          "name": "stdout",
          "text": [
            "     Survived  Pclass  Sex   Age  Siblings.Spouses.Aboard  \\\n",
            "0           0       3    0  22.0                        1   \n",
            "1           1       1    1  38.0                        1   \n",
            "2           1       3    1  26.0                        0   \n",
            "3           1       1    1  35.0                        1   \n",
            "4           0       3    0  35.0                        0   \n",
            "..        ...     ...  ...   ...                      ...   \n",
            "882         0       2    0  27.0                        0   \n",
            "883         1       1    1  19.0                        0   \n",
            "884         0       3    1   7.0                        1   \n",
            "885         1       1    0  26.0                        0   \n",
            "886         0       3    0  32.0                        0   \n",
            "\n",
            "     Parents.Children.Aboard     Fare  \n",
            "0                          0   7.2500  \n",
            "1                          0  71.2833  \n",
            "2                          0   7.9250  \n",
            "3                          0  53.1000  \n",
            "4                          0   8.0500  \n",
            "..                       ...      ...  \n",
            "882                        0  13.0000  \n",
            "883                        0  30.0000  \n",
            "884                        2  23.4500  \n",
            "885                        0  30.0000  \n",
            "886                        0   7.7500  \n",
            "\n",
            "[887 rows x 7 columns]\n",
            "(620, 6)\n"
          ]
        }
      ]
    },
    {
      "cell_type": "markdown",
      "source": [
        "### a. Fit a decision tree explaining the `Survived` variable using the other variables."
      ],
      "metadata": {
        "id": "RLK2pSlagmMd"
      }
    },
    {
      "cell_type": "code",
      "source": [
        "clf = DecisionTreeClassifier(random_state=123)\n",
        "clf.fit(X_train,y_train)"
      ],
      "metadata": {
        "colab": {
          "base_uri": "https://localhost:8080/"
        },
        "id": "9AWs13qyhtqk",
        "outputId": "80155a98-d73f-4f0e-ae8b-698e443d8cb0"
      },
      "execution_count": null,
      "outputs": [
        {
          "output_type": "execute_result",
          "data": {
            "text/plain": [
              "DecisionTreeClassifier(random_state=123)"
            ]
          },
          "metadata": {},
          "execution_count": 12
        }
      ]
    },
    {
      "cell_type": "markdown",
      "source": [
        "### c. Fit a bagging method using trees. Consider 50, 100, 1000 decision trees. Using `GridSearchCV` find the optimal number of trees."
      ],
      "metadata": {
        "id": "hFlBly1Lg3BT"
      }
    },
    {
      "cell_type": "code",
      "source": [
        "clf2 = BaggingClassifier(base_estimator=DecisionTreeClassifier(random_state=123))\n",
        "param_grid= {\"n_estimators\":[50,100,1000]}\n",
        "clf_bag = GridSearchCV(clf2,param_grid,n_jobs=-1)\n",
        "clf_bag.fit(X_train,y_train)"
      ],
      "metadata": {
        "colab": {
          "base_uri": "https://localhost:8080/"
        },
        "id": "-8gB9kAdgqeH",
        "outputId": "5a6f45be-a38f-4f8d-902c-e4a175bd8387"
      },
      "execution_count": null,
      "outputs": [
        {
          "output_type": "execute_result",
          "data": {
            "text/plain": [
              "GridSearchCV(estimator=BaggingClassifier(base_estimator=DecisionTreeClassifier(random_state=123)),\n",
              "             n_jobs=-1, param_grid={'n_estimators': [50, 100, 1000]})"
            ]
          },
          "metadata": {},
          "execution_count": 13
        }
      ]
    },
    {
      "cell_type": "markdown",
      "source": [
        "### d. Fit an AdaBoost method using trees. Consider 50, 100, 1000 decision trees. Using `GridSearchCV` find the optimal number of trees."
      ],
      "metadata": {
        "id": "tHcfNsUAh20h"
      }
    },
    {
      "cell_type": "code",
      "source": [
        "clf3 = AdaBoostClassifier(base_estimator=DecisionTreeClassifier(random_state=123))\n",
        "param_grid= {\"n_estimators\":[50,100,1000]}\n",
        "clf_boo = GridSearchCV(clf3,param_grid,n_jobs=-1)\n",
        "clf_boo.fit(X_train,y_train)"
      ],
      "metadata": {
        "colab": {
          "base_uri": "https://localhost:8080/"
        },
        "id": "oikGwrDKiJzH",
        "outputId": "5fe8952a-6353-4a49-b4ff-51681eb609c3"
      },
      "execution_count": null,
      "outputs": [
        {
          "output_type": "execute_result",
          "data": {
            "text/plain": [
              "GridSearchCV(estimator=AdaBoostClassifier(base_estimator=DecisionTreeClassifier(random_state=123)),\n",
              "             n_jobs=-1, param_grid={'n_estimators': [50, 100, 1000]})"
            ]
          },
          "metadata": {},
          "execution_count": 14
        }
      ]
    },
    {
      "cell_type": "markdown",
      "source": [
        "### e. Fit a random forest. Consider 50, 100, 1000 decision trees. Using `GridSearchCV` find the optimal number of trees."
      ],
      "metadata": {
        "id": "1imlE6Lzh_b5"
      }
    },
    {
      "cell_type": "code",
      "source": [
        "clf4 = RandomForestClassifier(random_state=123)\n",
        "param_grid= {\"n_estimators\":[50,100,1000]}\n",
        "clf_rf = GridSearchCV(clf4,param_grid,n_jobs=-1)\n",
        "clf_rf.fit(X_train,y_train)"
      ],
      "metadata": {
        "colab": {
          "base_uri": "https://localhost:8080/"
        },
        "id": "5okSpAhqiMrx",
        "outputId": "d722ec44-a004-41c2-fa69-8c559412c1bf"
      },
      "execution_count": null,
      "outputs": [
        {
          "output_type": "execute_result",
          "data": {
            "text/plain": [
              "GridSearchCV(estimator=RandomForestClassifier(random_state=123), n_jobs=-1,\n",
              "             param_grid={'n_estimators': [50, 100, 1000]})"
            ]
          },
          "metadata": {},
          "execution_count": 15
        }
      ]
    },
    {
      "cell_type": "markdown",
      "source": [
        "### f. Calculate the AUC score for each model on the test set. Which of the models performs best"
      ],
      "metadata": {
        "id": "uhN4LpeViQRD"
      }
    },
    {
      "cell_type": "code",
      "source": [
        "clf_probs = clf.predict_proba(X_test)\n",
        "clf_probs = clf_probs[:, 1]\n",
        "print(roc_auc_score(y_test, clf_probs))\n",
        "clf_bag_probs = clf_bag.predict_proba(X_test)\n",
        "clf_bag_probs = clf_bag_probs[:, 1]\n",
        "print(roc_auc_score(y_test, clf_bag_probs))\n",
        "clf_boo_probs = clf_boo.predict_proba(X_test)\n",
        "clf_boo_probs = clf_boo_probs[:, 1]\n",
        "print(roc_auc_score(y_test, clf_boo_probs))\n",
        "clf_rf_probs = clf_rf.predict_proba(X_test)\n",
        "clf_rf_probs = clf_rf_probs[:, 1]\n",
        "print(roc_auc_score(y_test, clf_rf_probs))"
      ],
      "metadata": {
        "colab": {
          "base_uri": "https://localhost:8080/"
        },
        "id": "QgPDtOBRidNE",
        "outputId": "2cd69197-d938-4839-c667-48461a4918c8"
      },
      "execution_count": null,
      "outputs": [
        {
          "output_type": "stream",
          "name": "stdout",
          "text": [
            "0.7613517593775404\n",
            "0.8551852281964929\n",
            "0.8342236674021601\n",
            "0.8619207989780513\n"
          ]
        }
      ]
    },
    {
      "cell_type": "markdown",
      "source": [
        "We can see that random forest gives us best results. The bagging method performs slightly worse. A regular decision tree gives the wrost result."
      ],
      "metadata": {
        "id": "tdX51azqigdn"
      }
    },
    {
      "cell_type": "markdown",
      "source": [
        "## Task 3\n",
        "\n",
        "Generate $n=100$ observations from $N_p(0,I)$, for $p=10$. Let $\\beta_0=1$ and $\\beta_1=[2,1,0.5,0.01,0,2,1,0.5,0.01,0]$ and let $y_i$ be an observation from $Bern(p_i)$, where $p_i=𝛟(\\beta_0+\\beta_1 x_i)$, $𝛟$ is the CDF of $N_p(0,I)$, $i=1,2,...,n$."
      ],
      "metadata": {
        "id": "gWlhki5zi4Mn"
      }
    },
    {
      "cell_type": "markdown",
      "source": [
        "### a. Split the data into training (70%) and test sets. "
      ],
      "metadata": {
        "id": "y44L3_onkTdO"
      }
    },
    {
      "cell_type": "code",
      "source": [
        "n = 100\n",
        "p = 10\n",
        "beta0 = 1\n",
        "beta1 = np.array([2, 1, 0.5, 0.01, 0, 2, 1, 0.5, 0.01, 0])\n",
        "X = np.random.normal(0, 1, size=(n, p))\n",
        "probs = norm.cdf(X@beta1+beta0)\n",
        "y = np.random.binomial(1, probs)\n",
        "X_train,X_test,y_train,y_test = train_test_split(X,y,train_size = 0.7,test_size = 0.3,shuffle = False)"
      ],
      "metadata": {
        "id": "-2XfA_-ulKUi"
      },
      "execution_count": null,
      "outputs": []
    },
    {
      "cell_type": "markdown",
      "source": [
        "### b. Fit a decision tree explaining the $y$ variable using the $x$ variable. Fit a bagging, Adaboost and random forest model using 100 trees."
      ],
      "metadata": {
        "id": "Poy1mSOTka7C"
      }
    },
    {
      "cell_type": "code",
      "source": [
        "clf = DecisionTreeClassifier(random_state=123)\n",
        "clf.fit(X_train,y_train)\n",
        "clf_bag = BaggingClassifier(base_estimator=DecisionTreeClassifier(random_state=123),n_estimators = 100)\n",
        "clf_bag.fit(X_train,y_train)\n",
        "clf_boo = AdaBoostClassifier(base_estimator=DecisionTreeClassifier(random_state=123),n_estimators = 100)\n",
        "clf_boo.fit(X_train,y_train)\n",
        "clf_rf = RandomForestClassifier(n_estimators = 100)\n",
        "clf_rf.fit(X_train,y_train)"
      ],
      "metadata": {
        "colab": {
          "base_uri": "https://localhost:8080/"
        },
        "id": "mB0bQyr_lWEz",
        "outputId": "79c055db-a441-4490-cbb5-f6300fa4d25a"
      },
      "execution_count": null,
      "outputs": [
        {
          "output_type": "execute_result",
          "data": {
            "text/plain": [
              "RandomForestClassifier()"
            ]
          },
          "metadata": {},
          "execution_count": 20
        }
      ]
    },
    {
      "cell_type": "markdown",
      "source": [
        "### c. Calculate the AUC score for each model."
      ],
      "metadata": {
        "id": "99yU7gFzkyvw"
      }
    },
    {
      "cell_type": "code",
      "source": [
        "clf_probs = clf.predict_proba(X_test)\n",
        "clf_probs = clf_probs[:, 1]\n",
        "print(roc_auc_score(y_test, clf_probs))\n",
        "clf_bag_probs = clf_bag.predict_proba(X_test)\n",
        "clf_bag_probs = clf_bag_probs[:, 1]\n",
        "print(roc_auc_score(y_test, clf_bag_probs))\n",
        "clf_boo_probs = clf_boo.predict_proba(X_test)\n",
        "clf_boo_probs = clf_boo_probs[:, 1]\n",
        "print(roc_auc_score(y_test, clf_boo_probs))\n",
        "clf_rf_probs = clf_rf.predict_proba(X_test)\n",
        "clf_rf_probs = clf_rf_probs[:, 1]\n",
        "print(roc_auc_score(y_test, clf_rf_probs))"
      ],
      "metadata": {
        "colab": {
          "base_uri": "https://localhost:8080/"
        },
        "id": "V0S2P4SKlb8X",
        "outputId": "35f2857a-7227-47a7-ffe8-acd4dccfb1bc"
      },
      "execution_count": null,
      "outputs": [
        {
          "output_type": "stream",
          "name": "stdout",
          "text": [
            "0.7375565610859729\n",
            "0.8506787330316742\n",
            "0.7375565610859729\n",
            "0.8733031674208145\n"
          ]
        }
      ]
    },
    {
      "cell_type": "markdown",
      "source": [
        "### d. Repeat the previous steps $L=100$ times. Create a boxplot showing the AUC changes."
      ],
      "metadata": {
        "id": "xukM2nvPk5U-"
      }
    },
    {
      "cell_type": "code",
      "source": [
        "L = 100\n",
        "AUC_clf = np.zeros(L)\n",
        "AUC_clf_bag = np.zeros(L)\n",
        "AUC_clf_boo = np.zeros(L)\n",
        "AUC_clf_rf = np.zeros(L)\n",
        "for i in range(L):\n",
        "  X = np.random.normal(0, 1, size=(n, p))\n",
        "  probs = norm.cdf(X@beta1+beta0)\n",
        "  y = np.random.binomial(1, probs)\n",
        "  X_train,X_test,y_train,y_test = train_test_split(X,y,train_size = 0.7,test_size = 0.3,shuffle = False)\n",
        "  clf.fit(X_train,y_train)\n",
        "  clf_bag.fit(X_train,y_train)\n",
        "  clf_boo.fit(X_train,y_train)\n",
        "  clf_rf.fit(X_train,y_train)\n",
        "  clf_probs = clf.predict_proba(X_test)\n",
        "  clf_probs = clf_probs[:, 1]\n",
        "  AUC_clf[i] = roc_auc_score(y_test, clf_probs)\n",
        "  clf_bag_probs = clf_bag.predict_proba(X_test)\n",
        "  clf_bag_probs = clf_bag_probs[:, 1]\n",
        "  AUC_clf_bag[i] = roc_auc_score(y_test, clf_bag_probs)\n",
        "  clf_boo_probs = clf_boo.predict_proba(X_test)\n",
        "  clf_boo_probs = clf_boo_probs[:, 1]\n",
        "  AUC_clf_boo[i] = roc_auc_score(y_test, clf_boo_probs)\n",
        "  clf_rf_probs = clf_rf.predict_proba(X_test)\n",
        "  clf_rf_probs = clf_rf_probs[:, 1]\n",
        "  AUC_clf_rf[i] = roc_auc_score(y_test, clf_rf_probs)\n",
        "\n",
        "AUCs = [AUC_clf, AUC_clf_bag, AUC_clf_boo, AUC_clf_rf]\n",
        "fig = plt.figure(figsize =(10, 7))\n",
        "ax = fig.add_axes([0, 0, 1, 1])\n",
        "bp = ax.boxplot(AUCs)\n",
        "plt.show()"
      ],
      "metadata": {
        "colab": {
          "base_uri": "https://localhost:8080/",
          "height": 552
        },
        "id": "ZOkNJDUplfxB",
        "outputId": "9c312da0-d59e-4227-a799-9972c16712e7"
      },
      "execution_count": null,
      "outputs": [
        {
          "output_type": "display_data",
          "data": {
            "text/plain": [
              "<Figure size 720x504 with 1 Axes>"
            ],
            "image/png": "[encoded data removed]"
          },
          "metadata": {
            "needs_background": "light"
          }
        }
      ]
    }
  ]
}