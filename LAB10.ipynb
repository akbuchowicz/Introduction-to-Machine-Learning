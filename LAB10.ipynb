{
  "nbformat": 4,
  "nbformat_minor": 0,
  "metadata": {
    "colab": {
      "provenance": [],
      "toc_visible": true
    },
    "kernelspec": {
      "name": "python3",
      "display_name": "Python 3"
    },
    "language_info": {
      "name": "python"
    }
  },
  "cells": [
    {
      "cell_type": "markdown",
      "source": [
        "# Programming Tasks: part 10\n",
        "Required datasets: `bank-full-encoded.csv`, `pima.csv`, `titanic.csv`.\n",
        "\n"
      ],
      "metadata": {
        "id": "o5-6RiHpZ3Qx"
      }
    },
    {
      "cell_type": "code",
      "source": [
        "import numpy as np\n",
        "import pandas as pd\n",
        "import matplotlib.pyplot as plt\n",
        "from sklearn.model_selection import train_test_split\n",
        "from sklearn.linear_model import LogisticRegression\n",
        "from sklearn.decomposition import PCA\n",
        "from sklearn.feature_selection import SelectFromModel, SequentialFeatureSelector"
      ],
      "metadata": {
        "id": "j6E0UjCGaLfg"
      },
      "execution_count": 1,
      "outputs": []
    },
    {
      "cell_type": "markdown",
      "source": [
        "## Task 1\n",
        "### a. Load `titanic.csv` and split the dataset in training (70%) and test (30%) sets."
      ],
      "metadata": {
        "id": "SzrJ7y0Fatbd"
      }
    },
    {
      "cell_type": "code",
      "source": [
        "dataframe = pd.read_csv('titanic.csv', header=0)\n",
        "dataframe.head()"
      ],
      "metadata": {
        "colab": {
          "base_uri": "https://localhost:8080/",
          "height": 206
        },
        "id": "z2QH-2Pja-TH",
        "outputId": "26928d99-8337-41b0-c886-eedbc733ed85"
      },
      "execution_count": 2,
      "outputs": [
        {
          "output_type": "execute_result",
          "data": {
            "text/plain": [
              "   Survived  Pclass  Sex   Age  Siblings.Spouses.Aboard  \\\n",
              "0         0       3    0  22.0                        1   \n",
              "1         1       1    1  38.0                        1   \n",
              "2         1       3    1  26.0                        0   \n",
              "3         1       1    1  35.0                        1   \n",
              "4         0       3    0  35.0                        0   \n",
              "\n",
              "   Parents.Children.Aboard     Fare  \n",
              "0                        0   7.2500  \n",
              "1                        0  71.2833  \n",
              "2                        0   7.9250  \n",
              "3                        0  53.1000  \n",
              "4                        0   8.0500  "
            ],
            "text/html": [
              "\n",
              "  <div id=\"df-fdfe70f4-5dc9-4a24-b186-cca811e217c6\">\n",
              "    <div class=\"colab-df-container\">\n",
              "      <div>\n",
              "<style scoped>\n",
              "    .dataframe tbody tr th:only-of-type {\n",
              "        vertical-align: middle;\n",
              "    }\n",
              "\n",
              "    .dataframe tbody tr th {\n",
              "        vertical-align: top;\n",
              "    }\n",
              "\n",
              "    .dataframe thead th {\n",
              "        text-align: right;\n",
              "    }\n",
              "</style>\n",
              "<table border=\"1\" class=\"dataframe\">\n",
              "  <thead>\n",
              "    <tr style=\"text-align: right;\">\n",
              "      <th></th>\n",
              "      <th>Survived</th>\n",
              "      <th>Pclass</th>\n",
              "      <th>Sex</th>\n",
              "      <th>Age</th>\n",
              "      <th>Siblings.Spouses.Aboard</th>\n",
              "      <th>Parents.Children.Aboard</th>\n",
              "      <th>Fare</th>\n",
              "    </tr>\n",
              "  </thead>\n",
              "  <tbody>\n",
              "    <tr>\n",
              "      <th>0</th>\n",
              "      <td>0</td>\n",
              "      <td>3</td>\n",
              "      <td>0</td>\n",
              "      <td>22.0</td>\n",
              "      <td>1</td>\n",
              "      <td>0</td>\n",
              "      <td>7.2500</td>\n",
              "    </tr>\n",
              "    <tr>\n",
              "      <th>1</th>\n",
              "      <td>1</td>\n",
              "      <td>1</td>\n",
              "      <td>1</td>\n",
              "      <td>38.0</td>\n",
              "      <td>1</td>\n",
              "      <td>0</td>\n",
              "      <td>71.2833</td>\n",
              "    </tr>\n",
              "    <tr>\n",
              "      <th>2</th>\n",
              "      <td>1</td>\n",
              "      <td>3</td>\n",
              "      <td>1</td>\n",
              "      <td>26.0</td>\n",
              "      <td>0</td>\n",
              "      <td>0</td>\n",
              "      <td>7.9250</td>\n",
              "    </tr>\n",
              "    <tr>\n",
              "      <th>3</th>\n",
              "      <td>1</td>\n",
              "      <td>1</td>\n",
              "      <td>1</td>\n",
              "      <td>35.0</td>\n",
              "      <td>1</td>\n",
              "      <td>0</td>\n",
              "      <td>53.1000</td>\n",
              "    </tr>\n",
              "    <tr>\n",
              "      <th>4</th>\n",
              "      <td>0</td>\n",
              "      <td>3</td>\n",
              "      <td>0</td>\n",
              "      <td>35.0</td>\n",
              "      <td>0</td>\n",
              "      <td>0</td>\n",
              "      <td>8.0500</td>\n",
              "    </tr>\n",
              "  </tbody>\n",
              "</table>\n",
              "</div>\n",
              "      <button class=\"colab-df-convert\" onclick=\"convertToInteractive('df-fdfe70f4-5dc9-4a24-b186-cca811e217c6')\"\n",
              "              title=\"Convert this dataframe to an interactive table.\"\n",
              "              style=\"display:none;\">\n",
              "        \n",
              "  <svg xmlns=\"http://www.w3.org/2000/svg\" height=\"24px\"viewBox=\"0 0 24 24\"\n",
              "       width=\"24px\">\n",
              "    <path d=\"M0 0h24v24H0V0z\" fill=\"none\"/>\n",
              "    <path d=\"M18.56 5.44l.94 2.06.94-2.06 2.06-.94-2.06-.94-.94-2.06-.94 2.06-2.06.94zm-11 1L8.5 8.5l.94-2.06 2.06-.94-2.06-.94L8.5 2.5l-.94 2.06-2.06.94zm10 10l.94 2.06.94-2.06 2.06-.94-2.06-.94-.94-2.06-.94 2.06-2.06.94z\"/><path d=\"M17.41 7.96l-1.37-1.37c-.4-.4-.92-.59-1.43-.59-.52 0-1.04.2-1.43.59L10.3 9.45l-7.72 7.72c-.78.78-.78 2.05 0 2.83L4 21.41c.39.39.9.59 1.41.59.51 0 1.02-.2 1.41-.59l7.78-7.78 2.81-2.81c.8-.78.8-2.07 0-2.86zM5.41 20L4 18.59l7.72-7.72 1.47 1.35L5.41 20z\"/>\n",
              "  </svg>\n",
              "      </button>\n",
              "      \n",
              "  <style>\n",
              "    .colab-df-container {\n",
              "      display:flex;\n",
              "      flex-wrap:wrap;\n",
              "      gap: 12px;\n",
              "    }\n",
              "\n",
              "    .colab-df-convert {\n",
              "      background-color: #E8F0FE;\n",
              "      border: none;\n",
              "      border-radius: 50%;\n",
              "      cursor: pointer;\n",
              "      display: none;\n",
              "      fill: #1967D2;\n",
              "      height: 32px;\n",
              "      padding: 0 0 0 0;\n",
              "      width: 32px;\n",
              "    }\n",
              "\n",
              "    .colab-df-convert:hover {\n",
              "      background-color: #E2EBFA;\n",
              "      box-shadow: 0px 1px 2px rgba(60, 64, 67, 0.3), 0px 1px 3px 1px rgba(60, 64, 67, 0.15);\n",
              "      fill: #174EA6;\n",
              "    }\n",
              "\n",
              "    [theme=dark] .colab-df-convert {\n",
              "      background-color: #3B4455;\n",
              "      fill: #D2E3FC;\n",
              "    }\n",
              "\n",
              "    [theme=dark] .colab-df-convert:hover {\n",
              "      background-color: #434B5C;\n",
              "      box-shadow: 0px 1px 3px 1px rgba(0, 0, 0, 0.15);\n",
              "      filter: drop-shadow(0px 1px 2px rgba(0, 0, 0, 0.3));\n",
              "      fill: #FFFFFF;\n",
              "    }\n",
              "  </style>\n",
              "\n",
              "      <script>\n",
              "        const buttonEl =\n",
              "          document.querySelector('#df-fdfe70f4-5dc9-4a24-b186-cca811e217c6 button.colab-df-convert');\n",
              "        buttonEl.style.display =\n",
              "          google.colab.kernel.accessAllowed ? 'block' : 'none';\n",
              "\n",
              "        async function convertToInteractive(key) {\n",
              "          const element = document.querySelector('#df-fdfe70f4-5dc9-4a24-b186-cca811e217c6');\n",
              "          const dataTable =\n",
              "            await google.colab.kernel.invokeFunction('convertToInteractive',\n",
              "                                                     [key], {});\n",
              "          if (!dataTable) return;\n",
              "\n",
              "          const docLinkHtml = 'Like what you see? Visit the ' +\n",
              "            '<a target=\"_blank\" href=https://colab.research.google.com/notebooks/data_table.ipynb>data table notebook</a>'\n",
              "            + ' to learn more about interactive tables.';\n",
              "          element.innerHTML = '';\n",
              "          dataTable['output_type'] = 'display_data';\n",
              "          await google.colab.output.renderOutput(dataTable, element);\n",
              "          const docLink = document.createElement('div');\n",
              "          docLink.innerHTML = docLinkHtml;\n",
              "          element.appendChild(docLink);\n",
              "        }\n",
              "      </script>\n",
              "    </div>\n",
              "  </div>\n",
              "  "
            ]
          },
          "metadata": {},
          "execution_count": 2
        }
      ]
    },
    {
      "cell_type": "code",
      "source": [
        "dataframe.info()"
      ],
      "metadata": {
        "colab": {
          "base_uri": "https://localhost:8080/"
        },
        "id": "P6B3AGrubEt6",
        "outputId": "4ca4914b-8d6b-4a81-f387-fbfb9d30f18f"
      },
      "execution_count": 3,
      "outputs": [
        {
          "output_type": "stream",
          "name": "stdout",
          "text": [
            "<class 'pandas.core.frame.DataFrame'>\n",
            "RangeIndex: 887 entries, 0 to 886\n",
            "Data columns (total 7 columns):\n",
            " #   Column                   Non-Null Count  Dtype  \n",
            "---  ------                   --------------  -----  \n",
            " 0   Survived                 887 non-null    int64  \n",
            " 1   Pclass                   887 non-null    int64  \n",
            " 2   Sex                      887 non-null    int64  \n",
            " 3   Age                      887 non-null    float64\n",
            " 4   Siblings.Spouses.Aboard  887 non-null    int64  \n",
            " 5   Parents.Children.Aboard  887 non-null    int64  \n",
            " 6   Fare                     887 non-null    float64\n",
            "dtypes: float64(2), int64(5)\n",
            "memory usage: 48.6 KB\n"
          ]
        }
      ]
    },
    {
      "cell_type": "code",
      "source": [
        "data = dataframe.values\n",
        "X, y = data[:,1:], data[:,0]\n",
        "np.random.seed(123)\n",
        "X_train, X_test, y_train, y_test = train_test_split(X,y,train_size=0.7)"
      ],
      "metadata": {
        "id": "eqXmEx_4bHTk"
      },
      "execution_count": 4,
      "outputs": []
    },
    {
      "cell_type": "markdown",
      "source": [
        "### b. Fit a logistic regression model to the training set without feature selection and calculate model accuracy."
      ],
      "metadata": {
        "id": "2W7JalFsbmyq"
      }
    },
    {
      "cell_type": "code",
      "source": [
        "m = LogisticRegression(penalty = 'none')\n",
        "m.fit(X_train, y_train)\n",
        "print('Accuracy: ', m.score(X_test, y_test))\n",
        "print('Coefficients: ', m.coef_)"
      ],
      "metadata": {
        "colab": {
          "base_uri": "https://localhost:8080/"
        },
        "id": "9IlC_BLqb6ai",
        "outputId": "0ab18f2a-a319-47ea-ac4e-ad0116150023"
      },
      "execution_count": 5,
      "outputs": [
        {
          "output_type": "stream",
          "name": "stdout",
          "text": [
            "Accuracy:  0.8202247191011236\n",
            "Coefficients:  [[-1.11330406  2.59181009 -0.04156067 -0.49113758 -0.11964342  0.00416926]]\n"
          ]
        }
      ]
    },
    {
      "cell_type": "markdown",
      "source": [
        "### c. Using `SelectFromModel` method perform feature selection on the training model. Fit a new logistic regression model and calculate accuracy."
      ],
      "metadata": {
        "id": "6GWi9Rb9c-me"
      }
    },
    {
      "cell_type": "code",
      "source": [
        "selector = SelectFromModel(estimator = LogisticRegression(penalty='none'))\n",
        "selector.fit(X_train,y_train)\n",
        "print('Threshold: ', selector.threshold_)\n",
        "print('Features selected: ', selector.get_support())"
      ],
      "metadata": {
        "colab": {
          "base_uri": "https://localhost:8080/"
        },
        "id": "5DjOmQ4vb2eX",
        "outputId": "28e2bdd0-7504-4cb8-cc63-6c7256d49911"
      },
      "execution_count": 6,
      "outputs": [
        {
          "output_type": "stream",
          "name": "stdout",
          "text": [
            "Threshold:  0.7269375116200022\n",
            "Features selected:  [ True  True False False False False]\n"
          ]
        }
      ]
    },
    {
      "cell_type": "code",
      "source": [
        "X_train2 = selector.transform(X_train)\n",
        "X_test2 = selector.transform(X_test)\n",
        "X_train2[:5,:]"
      ],
      "metadata": {
        "colab": {
          "base_uri": "https://localhost:8080/"
        },
        "id": "N79TPujteI2E",
        "outputId": "9ec09b0c-32a4-4fb5-82a6-0e0527c4e800"
      },
      "execution_count": 7,
      "outputs": [
        {
          "output_type": "execute_result",
          "data": {
            "text/plain": [
              "array([[3., 0.],\n",
              "       [2., 0.],\n",
              "       [3., 0.],\n",
              "       [1., 0.],\n",
              "       [1., 1.]])"
            ]
          },
          "metadata": {},
          "execution_count": 7
        }
      ]
    },
    {
      "cell_type": "code",
      "source": [
        "m.fit(X_train2, y_train)\n",
        "print('Accuracy: ', m.score(X_test2, y_test))\n",
        "print('Coefficients: ', m.coef_)"
      ],
      "metadata": {
        "colab": {
          "base_uri": "https://localhost:8080/"
        },
        "id": "q36tzBX1defJ",
        "outputId": "60d39dce-c345-4f2e-c81b-38b5ba3924ee"
      },
      "execution_count": 8,
      "outputs": [
        {
          "output_type": "stream",
          "name": "stdout",
          "text": [
            "Accuracy:  0.8239700374531835\n",
            "Coefficients:  [[-0.95961656  2.46737947]]\n"
          ]
        }
      ]
    },
    {
      "cell_type": "markdown",
      "source": [
        "### d. Do the same using `SequentialFeatureSelector`."
      ],
      "metadata": {
        "id": "CG3gzPk_enOQ"
      }
    },
    {
      "cell_type": "code",
      "source": [
        "sfs = SequentialFeatureSelector(estimator = LogisticRegression(penalty='none'), n_features_to_select = 3)\n",
        "sfs.fit(X_train,y_train)\n",
        "print('Features selected: ', sfs.get_support())\n",
        "\n",
        "X_train3 = sfs.transform(X_train)\n",
        "X_test3 = sfs.transform(X_test)\n",
        "X_train3[:5,:]"
      ],
      "metadata": {
        "colab": {
          "base_uri": "https://localhost:8080/"
        },
        "id": "TNAHbwhOfZnR",
        "outputId": "2b944a24-ca5b-460e-8809-6e0053560f6e"
      },
      "execution_count": 9,
      "outputs": [
        {
          "output_type": "stream",
          "name": "stdout",
          "text": [
            "Features selected:  [ True  True False  True False False]\n"
          ]
        },
        {
          "output_type": "execute_result",
          "data": {
            "text/plain": [
              "array([[3., 0., 1.],\n",
              "       [2., 0., 0.],\n",
              "       [3., 0., 0.],\n",
              "       [1., 0., 0.],\n",
              "       [1., 1., 1.]])"
            ]
          },
          "metadata": {},
          "execution_count": 9
        }
      ]
    },
    {
      "cell_type": "code",
      "source": [
        "m.fit(X_train3, y_train)\n",
        "print('Accuracy: ', m.score(X_test3, y_test))\n",
        "print('Coefficients: ', m.coef_)"
      ],
      "metadata": {
        "colab": {
          "base_uri": "https://localhost:8080/"
        },
        "id": "xI6aPSsbhScQ",
        "outputId": "07fe2d3d-6833-4352-b9be-1041002bd3a2"
      },
      "execution_count": 10,
      "outputs": [
        {
          "output_type": "stream",
          "name": "stdout",
          "text": [
            "Accuracy:  0.8202247191011236\n",
            "Coefficients:  [[-0.93099594  2.6026253  -0.33105371]]\n"
          ]
        }
      ]
    },
    {
      "cell_type": "markdown",
      "source": [
        "## Task 2\n",
        "### a. Load `pima.csv` and split the dataset in training (70%) and test (30%) sets.\n"
      ],
      "metadata": {
        "id": "D9sipFurkXhG"
      }
    },
    {
      "cell_type": "code",
      "source": [
        "dataframe = pd.read_csv('pima.csv', header=0)\n",
        "dataframe.head()"
      ],
      "metadata": {
        "colab": {
          "base_uri": "https://localhost:8080/",
          "height": 206
        },
        "id": "BqYWoScVkubs",
        "outputId": "5a1203f6-cbf6-4416-94b6-e20287fc893d"
      },
      "execution_count": 12,
      "outputs": [
        {
          "output_type": "execute_result",
          "data": {
            "text/plain": [
              "   times  glucose  blood  skin  insulin   BMI  pedigree  age  class\n",
              "0      6      148     72    35        0  33.6     0.627   50      1\n",
              "1      1       85     66    29        0  26.6     0.351   31      0\n",
              "2      8      183     64     0        0  23.3     0.672   32      1\n",
              "3      1       89     66    23       94  28.1     0.167   21      0\n",
              "4      0      137     40    35      168  43.1     2.288   33      1"
            ],
            "text/html": [
              "\n",
              "  <div id=\"df-1245aed2-21c5-47a8-a8a6-8b64ba75b236\">\n",
              "    <div class=\"colab-df-container\">\n",
              "      <div>\n",
              "<style scoped>\n",
              "    .dataframe tbody tr th:only-of-type {\n",
              "        vertical-align: middle;\n",
              "    }\n",
              "\n",
              "    .dataframe tbody tr th {\n",
              "        vertical-align: top;\n",
              "    }\n",
              "\n",
              "    .dataframe thead th {\n",
              "        text-align: right;\n",
              "    }\n",
              "</style>\n",
              "<table border=\"1\" class=\"dataframe\">\n",
              "  <thead>\n",
              "    <tr style=\"text-align: right;\">\n",
              "      <th></th>\n",
              "      <th>times</th>\n",
              "      <th>glucose</th>\n",
              "      <th>blood</th>\n",
              "      <th>skin</th>\n",
              "      <th>insulin</th>\n",
              "      <th>BMI</th>\n",
              "      <th>pedigree</th>\n",
              "      <th>age</th>\n",
              "      <th>class</th>\n",
              "    </tr>\n",
              "  </thead>\n",
              "  <tbody>\n",
              "    <tr>\n",
              "      <th>0</th>\n",
              "      <td>6</td>\n",
              "      <td>148</td>\n",
              "      <td>72</td>\n",
              "      <td>35</td>\n",
              "      <td>0</td>\n",
              "      <td>33.6</td>\n",
              "      <td>0.627</td>\n",
              "      <td>50</td>\n",
              "      <td>1</td>\n",
              "    </tr>\n",
              "    <tr>\n",
              "      <th>1</th>\n",
              "      <td>1</td>\n",
              "      <td>85</td>\n",
              "      <td>66</td>\n",
              "      <td>29</td>\n",
              "      <td>0</td>\n",
              "      <td>26.6</td>\n",
              "      <td>0.351</td>\n",
              "      <td>31</td>\n",
              "      <td>0</td>\n",
              "    </tr>\n",
              "    <tr>\n",
              "      <th>2</th>\n",
              "      <td>8</td>\n",
              "      <td>183</td>\n",
              "      <td>64</td>\n",
              "      <td>0</td>\n",
              "      <td>0</td>\n",
              "      <td>23.3</td>\n",
              "      <td>0.672</td>\n",
              "      <td>32</td>\n",
              "      <td>1</td>\n",
              "    </tr>\n",
              "    <tr>\n",
              "      <th>3</th>\n",
              "      <td>1</td>\n",
              "      <td>89</td>\n",
              "      <td>66</td>\n",
              "      <td>23</td>\n",
              "      <td>94</td>\n",
              "      <td>28.1</td>\n",
              "      <td>0.167</td>\n",
              "      <td>21</td>\n",
              "      <td>0</td>\n",
              "    </tr>\n",
              "    <tr>\n",
              "      <th>4</th>\n",
              "      <td>0</td>\n",
              "      <td>137</td>\n",
              "      <td>40</td>\n",
              "      <td>35</td>\n",
              "      <td>168</td>\n",
              "      <td>43.1</td>\n",
              "      <td>2.288</td>\n",
              "      <td>33</td>\n",
              "      <td>1</td>\n",
              "    </tr>\n",
              "  </tbody>\n",
              "</table>\n",
              "</div>\n",
              "      <button class=\"colab-df-convert\" onclick=\"convertToInteractive('df-1245aed2-21c5-47a8-a8a6-8b64ba75b236')\"\n",
              "              title=\"Convert this dataframe to an interactive table.\"\n",
              "              style=\"display:none;\">\n",
              "        \n",
              "  <svg xmlns=\"http://www.w3.org/2000/svg\" height=\"24px\"viewBox=\"0 0 24 24\"\n",
              "       width=\"24px\">\n",
              "    <path d=\"M0 0h24v24H0V0z\" fill=\"none\"/>\n",
              "    <path d=\"M18.56 5.44l.94 2.06.94-2.06 2.06-.94-2.06-.94-.94-2.06-.94 2.06-2.06.94zm-11 1L8.5 8.5l.94-2.06 2.06-.94-2.06-.94L8.5 2.5l-.94 2.06-2.06.94zm10 10l.94 2.06.94-2.06 2.06-.94-2.06-.94-.94-2.06-.94 2.06-2.06.94z\"/><path d=\"M17.41 7.96l-1.37-1.37c-.4-.4-.92-.59-1.43-.59-.52 0-1.04.2-1.43.59L10.3 9.45l-7.72 7.72c-.78.78-.78 2.05 0 2.83L4 21.41c.39.39.9.59 1.41.59.51 0 1.02-.2 1.41-.59l7.78-7.78 2.81-2.81c.8-.78.8-2.07 0-2.86zM5.41 20L4 18.59l7.72-7.72 1.47 1.35L5.41 20z\"/>\n",
              "  </svg>\n",
              "      </button>\n",
              "      \n",
              "  <style>\n",
              "    .colab-df-container {\n",
              "      display:flex;\n",
              "      flex-wrap:wrap;\n",
              "      gap: 12px;\n",
              "    }\n",
              "\n",
              "    .colab-df-convert {\n",
              "      background-color: #E8F0FE;\n",
              "      border: none;\n",
              "      border-radius: 50%;\n",
              "      cursor: pointer;\n",
              "      display: none;\n",
              "      fill: #1967D2;\n",
              "      height: 32px;\n",
              "      padding: 0 0 0 0;\n",
              "      width: 32px;\n",
              "    }\n",
              "\n",
              "    .colab-df-convert:hover {\n",
              "      background-color: #E2EBFA;\n",
              "      box-shadow: 0px 1px 2px rgba(60, 64, 67, 0.3), 0px 1px 3px 1px rgba(60, 64, 67, 0.15);\n",
              "      fill: #174EA6;\n",
              "    }\n",
              "\n",
              "    [theme=dark] .colab-df-convert {\n",
              "      background-color: #3B4455;\n",
              "      fill: #D2E3FC;\n",
              "    }\n",
              "\n",
              "    [theme=dark] .colab-df-convert:hover {\n",
              "      background-color: #434B5C;\n",
              "      box-shadow: 0px 1px 3px 1px rgba(0, 0, 0, 0.15);\n",
              "      filter: drop-shadow(0px 1px 2px rgba(0, 0, 0, 0.3));\n",
              "      fill: #FFFFFF;\n",
              "    }\n",
              "  </style>\n",
              "\n",
              "      <script>\n",
              "        const buttonEl =\n",
              "          document.querySelector('#df-1245aed2-21c5-47a8-a8a6-8b64ba75b236 button.colab-df-convert');\n",
              "        buttonEl.style.display =\n",
              "          google.colab.kernel.accessAllowed ? 'block' : 'none';\n",
              "\n",
              "        async function convertToInteractive(key) {\n",
              "          const element = document.querySelector('#df-1245aed2-21c5-47a8-a8a6-8b64ba75b236');\n",
              "          const dataTable =\n",
              "            await google.colab.kernel.invokeFunction('convertToInteractive',\n",
              "                                                     [key], {});\n",
              "          if (!dataTable) return;\n",
              "\n",
              "          const docLinkHtml = 'Like what you see? Visit the ' +\n",
              "            '<a target=\"_blank\" href=https://colab.research.google.com/notebooks/data_table.ipynb>data table notebook</a>'\n",
              "            + ' to learn more about interactive tables.';\n",
              "          element.innerHTML = '';\n",
              "          dataTable['output_type'] = 'display_data';\n",
              "          await google.colab.output.renderOutput(dataTable, element);\n",
              "          const docLink = document.createElement('div');\n",
              "          docLink.innerHTML = docLinkHtml;\n",
              "          element.appendChild(docLink);\n",
              "        }\n",
              "      </script>\n",
              "    </div>\n",
              "  </div>\n",
              "  "
            ]
          },
          "metadata": {},
          "execution_count": 12
        }
      ]
    },
    {
      "cell_type": "code",
      "source": [
        "dataframe.info()"
      ],
      "metadata": {
        "colab": {
          "base_uri": "https://localhost:8080/"
        },
        "id": "6_mzc9p5k1fJ",
        "outputId": "5b5c99d7-d7f0-4c3b-be97-12d979df5713"
      },
      "execution_count": 13,
      "outputs": [
        {
          "output_type": "stream",
          "name": "stdout",
          "text": [
            "<class 'pandas.core.frame.DataFrame'>\n",
            "RangeIndex: 768 entries, 0 to 767\n",
            "Data columns (total 9 columns):\n",
            " #   Column    Non-Null Count  Dtype  \n",
            "---  ------    --------------  -----  \n",
            " 0   times     768 non-null    int64  \n",
            " 1   glucose   768 non-null    int64  \n",
            " 2   blood     768 non-null    int64  \n",
            " 3   skin      768 non-null    int64  \n",
            " 4   insulin   768 non-null    int64  \n",
            " 5   BMI       768 non-null    float64\n",
            " 6   pedigree  768 non-null    float64\n",
            " 7   age       768 non-null    int64  \n",
            " 8   class     768 non-null    int64  \n",
            "dtypes: float64(2), int64(7)\n",
            "memory usage: 54.1 KB\n"
          ]
        }
      ]
    },
    {
      "cell_type": "code",
      "source": [
        "data = dataframe.values\n",
        "X, y = data[:,:-1], data[:,-1]\n",
        "np.random.seed(123)\n",
        "X_train, X_test, y_train, y_test = train_test_split(X,y,train_size=0.7)"
      ],
      "metadata": {
        "id": "yVsyDlknk7Ul"
      },
      "execution_count": 14,
      "outputs": []
    },
    {
      "cell_type": "markdown",
      "source": [
        "### b. Find the principal components of independent variables in the training set. How much of the variance is explained by each component percentage-wise? Create a line graph."
      ],
      "metadata": {
        "id": "oearSlDZlf-0"
      }
    },
    {
      "cell_type": "code",
      "source": [
        "pca = PCA()\n",
        "pca.fit(X_train)\n",
        "pca.components_"
      ],
      "metadata": {
        "colab": {
          "base_uri": "https://localhost:8080/"
        },
        "id": "phqDUJOTk-0n",
        "outputId": "061ba3dd-048b-4373-e12c-1bf91cfaede1"
      },
      "execution_count": 17,
      "outputs": [
        {
          "output_type": "execute_result",
          "data": {
            "text/plain": [
              "array([[-2.19283085e-03,  1.11073589e-01,  1.81827264e-02,\n",
              "         6.14098943e-02,  9.91622795e-01,  1.36586433e-02,\n",
              "         4.63622171e-04, -7.31582582e-03],\n",
              "       [-2.01004590e-02, -9.66612418e-01, -1.56361696e-01,\n",
              "         7.18450847e-02,  1.06100647e-01, -4.11074624e-02,\n",
              "        -8.99179027e-04, -1.50657655e-01],\n",
              "       [-2.05444254e-02,  1.53359546e-01, -9.17110886e-01,\n",
              "        -3.16850738e-01,  2.00523686e-02, -1.30745666e-01,\n",
              "        -9.36373994e-04, -1.30669831e-01],\n",
              "       [-4.60084855e-02,  1.43478604e-01, -2.56561197e-01,\n",
              "         8.68749137e-01, -7.04511105e-02,  1.95682913e-01,\n",
              "         2.69419772e-03, -3.36876800e-01],\n",
              "       [ 1.49688196e-01, -8.37566364e-02, -2.52659990e-01,\n",
              "         2.88386582e-01,  2.53570132e-03,  4.62076790e-02,\n",
              "         1.28608221e-03,  9.06328387e-01],\n",
              "       [ 7.09885192e-03,  4.68391704e-02,  6.67382688e-02,\n",
              "         2.29515821e-01, -7.32184827e-03, -9.69824952e-01,\n",
              "        -2.62727632e-03, -1.80002160e-03],\n",
              "       [ 9.87157585e-01,  2.81686419e-03,  3.64224861e-03,\n",
              "        -9.85827788e-03,  1.16692297e-03,  5.59518379e-03,\n",
              "        -1.09622029e-02, -1.58898325e-01],\n",
              "       [ 1.07359627e-02, -9.02017419e-04,  2.23664614e-04,\n",
              "        -2.47726874e-03, -1.65466099e-04, -3.23924352e-03,\n",
              "         9.99931055e-01, -2.25919296e-03]])"
            ]
          },
          "metadata": {},
          "execution_count": 17
        }
      ]
    },
    {
      "cell_type": "code",
      "source": [
        "plt.plot(pca.explained_variance_ratio_)\n",
        "plt.show()"
      ],
      "metadata": {
        "colab": {
          "base_uri": "https://localhost:8080/",
          "height": 265
        },
        "id": "6fwkgOkqlE9s",
        "outputId": "9cfc856b-4931-4e33-b8ba-9fb7a79d48cf"
      },
      "execution_count": 20,
      "outputs": [
        {
          "output_type": "display_data",
          "data": {
            "text/plain": [
              "<Figure size 432x288 with 1 Axes>"
            ],
            "image/png": "[encoded data removed]"
          },
          "metadata": {
            "needs_background": "light"
          }
        }
      ]
    },
    {
      "cell_type": "markdown",
      "source": [
        "### c. Transform the training and test data using the eigenvectors from point b."
      ],
      "metadata": {
        "id": "d-9iln00m79S"
      }
    },
    {
      "cell_type": "code",
      "source": [
        "X_train2 = pca.transform(X_train)\n",
        "X_test2 = pca.transform(X_test)"
      ],
      "metadata": {
        "id": "0daQ7cwbnVUJ"
      },
      "execution_count": 24,
      "outputs": []
    },
    {
      "cell_type": "markdown",
      "source": [
        "### d. Fit a logistic regression model:\n",
        "*   to the original training set\n",
        "*   to every component\n",
        "* to the first 7 components\n",
        "* to the first 2 components\n",
        "\n",
        "Calculate model accuracy for each case.\n",
        "\n"
      ],
      "metadata": {
        "id": "dnwKTgJ8n-vf"
      }
    },
    {
      "cell_type": "code",
      "source": [
        "m = LogisticRegression(penalty = 'none', max_iter=1000)\n",
        "m.fit(X_train, y_train)\n",
        "print('Accuracy: ', m.score(X_test, y_test))"
      ],
      "metadata": {
        "colab": {
          "base_uri": "https://localhost:8080/"
        },
        "id": "I13N7cg0nL-_",
        "outputId": "9028f0ba-e2e4-497d-bc85-2cd8390c1f9b"
      },
      "execution_count": 22,
      "outputs": [
        {
          "output_type": "stream",
          "name": "stdout",
          "text": [
            "Accuracy:  0.8008658008658008\n"
          ]
        }
      ]
    },
    {
      "cell_type": "code",
      "source": [
        "m.fit(X_train2, y_train)\n",
        "print('Accuracy: ', m.score(X_test2, y_test))"
      ],
      "metadata": {
        "colab": {
          "base_uri": "https://localhost:8080/"
        },
        "id": "uzw8KbkFou3H",
        "outputId": "ba4a0fb7-ea5c-4f22-ad55-9b165d2da14e"
      },
      "execution_count": 25,
      "outputs": [
        {
          "output_type": "stream",
          "name": "stdout",
          "text": [
            "Accuracy:  0.8008658008658008\n"
          ]
        }
      ]
    },
    {
      "cell_type": "code",
      "source": [
        "m.fit(X_train2[:,0:7], y_train)\n",
        "print('Accuracy: ', m.score(X_test2[:,0:7], y_test))"
      ],
      "metadata": {
        "colab": {
          "base_uri": "https://localhost:8080/"
        },
        "id": "v31lnEUTo7iy",
        "outputId": "11ec5b06-c8cc-481c-d0e3-0e0da1cdf025"
      },
      "execution_count": 28,
      "outputs": [
        {
          "output_type": "stream",
          "name": "stdout",
          "text": [
            "Accuracy:  0.8008658008658008\n"
          ]
        }
      ]
    },
    {
      "cell_type": "code",
      "source": [
        "m.fit(X_train2[:,0:2], y_train)\n",
        "print('Accuracy: ', m.score(X_test2[:,0:2], y_test))"
      ],
      "metadata": {
        "colab": {
          "base_uri": "https://localhost:8080/"
        },
        "id": "yPb0ibdUpU3l",
        "outputId": "f113a741-9f8b-4ee0-d3d8-0abe0cce2345"
      },
      "execution_count": 29,
      "outputs": [
        {
          "output_type": "stream",
          "name": "stdout",
          "text": [
            "Accuracy:  0.7748917748917749\n"
          ]
        }
      ]
    }
  ]
}